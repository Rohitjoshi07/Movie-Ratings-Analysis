{
 "cells": [
  {
   "cell_type": "code",
   "execution_count": 0,
   "metadata": {
    "application/vnd.databricks.v1+cell": {
     "cellMetadata": {
      "byteLimit": 2048000,
      "rowLimit": 10000
     },
     "inputWidgets": {},
     "nuid": "ddc74bcf-2297-4923-af4e-d8473e469234",
     "showTitle": false,
     "title": ""
    }
   },
   "outputs": [
    {
     "output_type": "display_data",
     "data": {
      "text/html": [
       "\n",
       "            <div>\n",
       "                <p><b>SparkSession - hive</b></p>\n",
       "                \n",
       "        <div>\n",
       "            <p><b>SparkContext</b></p>\n",
       "\n",
       "            <p><a href=\"/?o=1332690308506836#setting/sparkui/0321-082925-pn2n7onn/driver-3440998934481472783\">Spark UI</a></p>\n",
       "\n",
       "            <dl>\n",
       "              <dt>Version</dt>\n",
       "                <dd><code>v3.3.2</code></dd>\n",
       "              <dt>Master</dt>\n",
       "                <dd><code>local[8]</code></dd>\n",
       "              <dt>AppName</dt>\n",
       "                <dd><code>Databricks Shell</code></dd>\n",
       "            </dl>\n",
       "        </div>\n",
       "        \n",
       "            </div>\n",
       "        "
      ]
     },
     "metadata": {
      "application/vnd.databricks.v1+output": {
       "addedWidgets": {},
       "arguments": {},
       "data": "\n            <div>\n                <p><b>SparkSession - hive</b></p>\n                \n        <div>\n            <p><b>SparkContext</b></p>\n\n            <p><a href=\"/?o=1332690308506836#setting/sparkui/0321-082925-pn2n7onn/driver-3440998934481472783\">Spark UI</a></p>\n\n            <dl>\n              <dt>Version</dt>\n                <dd><code>v3.3.2</code></dd>\n              <dt>Master</dt>\n                <dd><code>local[8]</code></dd>\n              <dt>AppName</dt>\n                <dd><code>Databricks Shell</code></dd>\n            </dl>\n        </div>\n        \n            </div>\n        ",
       "datasetInfos": [],
       "metadata": {},
       "removedWidgets": [],
       "textData": null,
       "type": "htmlSandbox"
      }
     },
     "output_type": "display_data"
    }
   ],
   "source": [
    "spark"
   ]
  },
  {
   "cell_type": "code",
   "execution_count": 0,
   "metadata": {
    "application/vnd.databricks.v1+cell": {
     "cellMetadata": {
      "byteLimit": 2048000,
      "rowLimit": 10000
     },
     "inputWidgets": {},
     "nuid": "c9075c4b-48a0-4827-ac91-13fccc47acb1",
     "showTitle": false,
     "title": ""
    }
   },
   "outputs": [],
   "source": [
    "df1 = spark.read.format(\"csv\").option(\"header\", \"true\").load(\"dbfs:/FileStore/shared_uploads/rohitjoshi9july@gmail.com/TMDB_all_movies.csv\")"
   ]
  },
  {
   "cell_type": "code",
   "execution_count": 0,
   "metadata": {
    "application/vnd.databricks.v1+cell": {
     "cellMetadata": {
      "byteLimit": 2048000,
      "rowLimit": 10000
     },
     "inputWidgets": {},
     "nuid": "5ef2193b-a50e-4a8a-8e52-8bb5e2cfe603",
     "showTitle": false,
     "title": ""
    }
   },
   "outputs": [],
   "source": [
    "class Main:\n",
    "    def __init__(self):\n",
    "        self.spark = spark\n",
    "        self.last_processed_id = 0\n",
    "        self.schema = None\n",
    "\n",
    "    def read_parquet(self, path,partition_col):\n",
    "        try:\n",
    "            logger.info(f\"Reading file from path:{path}\")\n",
    "            df = self.spark.read.option(\"parititionColumn\",partition_col).option(\"mode\",\"DROPMALFORMED\").parquet(path, inferSchema=True)\n",
    "            return df\n",
    "        except Exception as e:\n",
    "            logger.error(f\"Encountered exception while reading file: {path}: {e}\")\n",
    "            if True:\n",
    "                logger.info(f\"No data present at source [Infer schema issue]: {path}\")\n",
    "                return None\n",
    "            else:\n",
    "                #raise Exception(\"Error while reading file.\")\n",
    "                return None\n",
    "\n",
    "    def save_details(self):\n",
    "        with open(\"schema.json\",\"w\") as f:\n",
    "            if self.schema:\n",
    "                f.write(self.schema.json())\n",
    "            f.close()\n",
    "\n",
    "        with open(\"last_processed_data.txt\",\"w\") as f:\n",
    "\n",
    "            f.write(f\"last_processed_id={self.last_processed_id}\")\n",
    "            f.close()\n",
    "\n",
    "    def initialize(self):\n",
    "        try:\n",
    "            with open(\"schema.json\",\"r\") as f:\n",
    "                self.schema = StructType.fromJson(json.loads(f.read()))\n",
    "                f.close()\n",
    "\n",
    "            with open(\"last_processed_data.txt\",\"r\") as f:\n",
    "                data = f.read()\n",
    "                self.last_processed_id = int(data.split(\"=\")[1])\n",
    "\n",
    "            logger.info(\"Initialised schema and last_processed_id!\")\n",
    "        except Exception as e:\n",
    "            self.last_processed_id = 0\n",
    "            logger.error(f\"Exception occured during intialization: {e}\")\n",
    "\n",
    "    def process(self, source,outputPath):\n",
    "        \n",
    "        try:\n",
    "        #load data from source\n",
    "            df = self.spark.read.format(\"csv\").option(\"header\",True).option(\"delimeter\",',').option(\"inferSchema\",True).load(source)\n",
    "\n",
    "            print(f\"Total Entries in data:{df.count()}\")\n",
    "            print(df.printSchema())\n",
    "            print(\"*\"*50)\n",
    "            logger.info(f\"Last processed id: {self.last_processed_id}\")\n",
    "            max_id = df.agg({\"id\": \"max\"}).collect()[0][\"max(id)\"]\n",
    "            logger.info(f\"Max id to be processed: {max_id}\")\n",
    "\n",
    "            #data type casting\n",
    "            df = df.withColumn(\"vote_average\",col(\"vote_average\").cast(\"float\"))\\\n",
    "                    .withColumn(\"vote_count\",col(\"vote_count\").cast(\"integer\")) \\\n",
    "                    .withColumn(\"release_date\",to_date(\"release_date\")) \\\n",
    "                    .withColumn(\"revenue\", col(\"revenue\").cast(\"float\"))\\\n",
    "                    .withColumn(\"budget\", col(\"budget\").cast(\"float\"))\\\n",
    "                    .withColumn(\"runtime\", col(\"runtime\").cast(\"integer\"))\\\n",
    "                    .withColumn(\"popularity\",col(\"popularity\").cast(\"float\"))\n",
    "\n",
    "            df = df.withColumn(\"year\",year(col(\"release_date\"))) \\\n",
    "                    .withColumn(\"month\",month(col(\"release_date\")))\n",
    "            print(df.printSchema())\n",
    "\n",
    "            #partitioning\n",
    "            df = df.repartition(col(\"year\"))\n",
    "            schema = self.schema if self.schema else df.schema\n",
    "            existing_df = self.read_parquet(outputPath,\"year\")\n",
    "            if not existing_df:\n",
    "                existing_df = self.spark.createDataFrame([], schema)\n",
    "\n",
    "            # merged_df = existing_df.union(cleaned_df)\n",
    "            new_df = df.join(existing_df, df[\"id\"] == existing_df[\"id\"], \"left_anti\")\n",
    "            print(f\"Rows needs to be processed: {new_df.count()}\")\n",
    "\n",
    "            new_df.write.mode(\"append\") \\\n",
    "                .partitionBy(\"year\") \\\n",
    "                .parquet(outputPath)\n",
    "\n",
    "            logger.info(f\"Processed data successfully with max_id: {max_id}\")\n",
    "\n",
    "            #update final details\n",
    "            self.schema = new_df.schema\n",
    "            self.last_processed_id = int(max_id)\n",
    "\n",
    "        except Exception as e:\n",
    "            logger.info(f\"Encountered exception while processing data: {e}\")\n",
    "            raise Exception(\"Encountered exception in data processing\")\n",
    "        finally:\n",
    "            self.save_details()\n",
    "            # self.exit_session()\n",
    "\n",
    "    # def exit_session(self):\n",
    "    #     if self.spark:\n",
    "    #         self.spark.stop()"
   ]
  },
  {
   "cell_type": "code",
   "execution_count": 0,
   "metadata": {
    "application/vnd.databricks.v1+cell": {
     "cellMetadata": {
      "byteLimit": 2048000,
      "rowLimit": 10000
     },
     "inputWidgets": {},
     "nuid": "2a70dd8e-59be-49e8-9817-f9576998ad99",
     "showTitle": false,
     "title": ""
    }
   },
   "outputs": [],
   "source": [
    "from pyspark.sql.functions import *\n",
    "import logging\n",
    "import json\n",
    "\n",
    "logging.basicConfig(level=logging.INFO)\n",
    "logger = logging.getLogger(__name__)"
   ]
  },
  {
   "cell_type": "code",
   "execution_count": 0,
   "metadata": {
    "application/vnd.databricks.v1+cell": {
     "cellMetadata": {
      "byteLimit": 2048000,
      "rowLimit": 10000
     },
     "inputWidgets": {},
     "nuid": "e2da1e4e-0056-4d2b-95e3-733c075d6614",
     "showTitle": false,
     "title": ""
    }
   },
   "outputs": [],
   "source": [
    "\n",
    "\n",
    "obj = Main()\n",
    "source = \"dbfs:/FileStore/shared_uploads/rohitjoshi9july@gmail.com/TMDB_all_movies.csv\"\n",
    "destination = \"s3a://tmdb-movies-datalake/movie-ratings-data/\"\n",
    "obj.initialize()\n",
    "obj.process(source, destination)"
   ]
  },
  {
   "cell_type": "code",
   "execution_count": 0,
   "metadata": {
    "application/vnd.databricks.v1+cell": {
     "cellMetadata": {
      "byteLimit": 2048000,
      "rowLimit": 10000
     },
     "inputWidgets": {},
     "nuid": "8bb941d7-fad4-491e-b615-c4c6ed3a8c64",
     "showTitle": false,
     "title": ""
    }
   },
   "outputs": [],
   "source": [
    "df = spark.read.format(\"csv\").option(\"header\",True).option(\"delimeter\",',').option(\"inferSchema\",True).load(source)"
   ]
  },
  {
   "cell_type": "code",
   "execution_count": 0,
   "metadata": {
    "application/vnd.databricks.v1+cell": {
     "cellMetadata": {
      "byteLimit": 2048000,
      "rowLimit": 10000
     },
     "inputWidgets": {},
     "nuid": "3b9dfd92-3174-49c7-b2be-bad1e361373b",
     "showTitle": false,
     "title": ""
    }
   },
   "outputs": [
    {
     "output_type": "stream",
     "name": "stdout",
     "output_type": "stream",
     "text": [
      "Total Entries in original data: 908174\n**************************************************\nSchema of original data: StructType([StructField('id', StringType(), True), StructField('title', StringType(), True), StructField('vote_average', StringType(), True), StructField('vote_count', StringType(), True), StructField('status', StringType(), True), StructField('release_date', StringType(), True), StructField('revenue', StringType(), True), StructField('runtime', StringType(), True), StructField('budget', StringType(), True), StructField('imdb_id', StringType(), True), StructField('original_language', StringType(), True), StructField('original_title', StringType(), True), StructField('overview', StringType(), True), StructField('popularity', StringType(), True), StructField('tagline', StringType(), True), StructField('genres', StringType(), True), StructField('production_companies', StringType(), True), StructField('production_countries', StringType(), True), StructField('spoken_languages', StringType(), True), StructField('cast', StringType(), True), StructField('director', StringType(), True), StructField('director_of_photography', StringType(), True), StructField('writers', StringType(), True), StructField('producers', StringType(), True), StructField('music_composer', StringType(), True)])\n**************************************************\n"
     ]
    }
   ],
   "source": [
    "#EDA\n",
    "print(f\"Total Entries in original data: {df.count()}\")\n",
    "\n",
    "print(\"*\"*50)\n",
    "\n",
    "print(f\"Schema of original data: {df.schema}\")\n",
    "\n",
    "print(\"*\"*50)\n",
    "\n"
   ]
  },
  {
   "cell_type": "code",
   "execution_count": 0,
   "metadata": {
    "application/vnd.databricks.v1+cell": {
     "cellMetadata": {
      "byteLimit": 2048000,
      "rowLimit": 10000
     },
     "inputWidgets": {},
     "nuid": "f47c79c2-f187-42f6-9369-a8b49aa9f1c4",
     "showTitle": false,
     "title": ""
    }
   },
   "outputs": [
    {
     "output_type": "stream",
     "name": "stdout",
     "output_type": "stream",
     "text": [
      "Column 'id' has 0 null values.\nColumn 'title' has 124 null values.\nColumn 'vote_average' has 177 null values.\nColumn 'vote_count' has 175 null values.\nColumn 'status' has 187 null values.\nColumn 'release_date' has 86386 null values.\nColumn 'revenue' has 198 null values.\nColumn 'runtime' has 195 null values.\nColumn 'budget' has 193 null values.\nColumn 'imdb_id' has 355135 null values.\nColumn 'original_language' has 259 null values.\nColumn 'original_title' has 231 null values.\nColumn 'overview' has 153629 null values.\nColumn 'popularity' has 347 null values.\nColumn 'tagline' has 735508 null values.\nColumn 'genres' has 260615 null values.\nColumn 'production_companies' has 473791 null values.\nColumn 'production_countries' has 346323 null values.\nColumn 'spoken_languages' has 346883 null values.\nColumn 'cast' has 300356 null values.\nColumn 'director' has 167398 null values.\nColumn 'director_of_photography' has 671060 null values.\nColumn 'writers' has 466194 null values.\nColumn 'producers' has 613829 null values.\nColumn 'music_composer' has 802466 null values.\n"
     ]
    }
   ],
   "source": [
    "# Count the null values in the original df\n",
    "for col_name in df.columns:\n",
    "    null_count = df.filter(col(col_name).isNull()).count()\n",
    "    print(f\"Column '{col_name}' has {null_count} null values.\")\n"
   ]
  },
  {
   "cell_type": "code",
   "execution_count": 0,
   "metadata": {
    "application/vnd.databricks.v1+cell": {
     "cellMetadata": {
      "byteLimit": 2048000,
      "rowLimit": 10000
     },
     "inputWidgets": {},
     "nuid": "9766d1cb-bc0b-4038-96e9-321187c9fe24",
     "showTitle": false,
     "title": ""
    }
   },
   "outputs": [
    {
     "output_type": "stream",
     "name": "stdout",
     "output_type": "stream",
     "text": [
      "Distinct status in original data: 74\n\n\nDistinct genres in original data: 42205\n\n\nDistinct production companies in original data: 210603\n\n\n\n\n\n+---+-------------------+------------+----------+--------+------------+---------+-------+---------+---------+-----------------+--------------------+--------------------+----------+--------------------+--------------------+--------------------+--------------------+--------------------+--------------------+--------------------+-----------------------+--------------------+--------------------+------------------+\n| id|              title|vote_average|vote_count|  status|release_date|  revenue|runtime|   budget|  imdb_id|original_language|      original_title|            overview|popularity|             tagline|              genres|production_companies|production_countries|    spoken_languages|                cast|            director|director_of_photography|             writers|           producers|    music_composer|\n+---+-------------------+------------+----------+--------+------------+---------+-------+---------+---------+-----------------+--------------------+--------------------+----------+--------------------+--------------------+--------------------+--------------------+--------------------+--------------------+--------------------+-----------------------+--------------------+--------------------+------------------+\n|  2|              Ariel|       7.082|       304|Released|  1988-10-21|      0.0|     73|      0.0|tt0094675|               fi|               Ariel|After the coal mi...|     9.751|                null|Drama, Comedy, Ro...|Villealfa Filmpro...|             Finland|               suomi|Markku Rantala, E...|      Aki Kaurismäki|          Timo Salminen|      Aki Kaurismäki|      Aki Kaurismäki|              null|\n|  3|Shadows in Paradise|       7.302|       344|Released|  1986-10-17|      0.0|     74|      0.0|tt0092149|               fi|Varjoja paratiisissa|Nikander, a rubbi...|    12.724|                null|Drama, Comedy, Ro...|Villealfa Filmpro...|             Finland|suomi, English, s...|Esko Nikkari, Mat...|      Aki Kaurismäki|          Timo Salminen|      Aki Kaurismäki|     Mika Kaurismäki|              null|\n|  5|         Four Rooms|         5.8|      2534|Released|  1995-12-09|4257354.0|     98|4000000.0|tt0113101|               en|          Four Rooms|It's Ted the Bell...|    20.789|Twelve outrageous...|              Comedy|Miramax, A Band A...|United States of ...|             English|Amanda de Cadenet...|Alexandre Rockwel...|   Guillermo Navarro...|Alexandre Rockwel...|Alexandre Rockwel...|Combustible Edison|\n+---+-------------------+------------+----------+--------+------------+---------+-------+---------+---------+-----------------+--------------------+--------------------+----------+--------------------+--------------------+--------------------+--------------------+--------------------+--------------------+--------------------+-----------------------+--------------------+--------------------+------------------+\nonly showing top 3 rows\n\n"
     ]
    }
   ],
   "source": [
    "print(f\"Distinct status in original data: {df.select('status').distinct().count()}\")\n",
    "print(\"\\n\")\n",
    "print(f\"Distinct genres in original data: {df.select('genres').distinct().count()}\")\n",
    "print(\"\\n\")\n",
    "print(f\"Distinct production companies in original data: {df.select('production_companies').distinct().count()}\")\n",
    "\n",
    "\n",
    "print(\"\\n\"*4)\n",
    "df.show(3)"
   ]
  },
  {
   "cell_type": "code",
   "execution_count": 0,
   "metadata": {
    "application/vnd.databricks.v1+cell": {
     "cellMetadata": {
      "byteLimit": 2048000,
      "rowLimit": 10000
     },
     "inputWidgets": {},
     "nuid": "cf7f4e96-9190-4d22-aad5-4de29dc1d5d6",
     "showTitle": false,
     "title": ""
    }
   },
   "outputs": [
    {
     "output_type": "stream",
     "name": "stdout",
     "output_type": "stream",
     "text": [
      "Total entries in cleaned data: 821655\nDistinct status in cleaned data: 5\n\n\nDistinct genres in cleaned data: 37339\n\n\nDistinct production companies in cleaned data: 197887\n"
     ]
    }
   ],
   "source": [
    "#data cleaning\n",
    "df = df.dropna(subset = [\"release_date\",\"revenue\",\"budget\"])\n",
    "df = df.withColumn(\"vote_average\",col(\"vote_average\").cast(\"float\"))\\\n",
    "                    .withColumn(\"vote_count\",col(\"vote_count\").cast(\"integer\")) \\\n",
    "                    .withColumn(\"release_date\",to_date(\"release_date\")) \\\n",
    "                    .withColumn(\"revenue\", col(\"revenue\").cast(\"float\"))\\\n",
    "                    .withColumn(\"budget\", col(\"budget\").cast(\"float\"))\\\n",
    "                    .withColumn(\"runtime\", col(\"runtime\").cast(\"integer\"))\\\n",
    "                    .withColumn(\"year\",year(col(\"release_date\"))) \\\n",
    "                    .withColumn(\"month\",month(col(\"release_date\"))) \\\n",
    "                    .withColumn(\"popularity\",col(\"popularity\").cast(\"float\"))\n",
    "\n",
    "\n",
    "df = df.withColumn(\"year\", col(\"year\").cast(\"string\")).withColumn(\"month\",format_string(\"%02d\", col(\"month\")))\n",
    "\n",
    "status_list= [\"Released\",\"Planned\",\"In Production\",\"Post Production\",\"Cancelled\",\"Rumoured\",\"NA\"]\n",
    "cleaned_df = df.repartition(col(\"month\")).withColumn(\"genres\",regexp_replace(col(\"genres\"), \"[^a-zA-Z\\s,]\", \"\")) \\\n",
    "                                    .withColumn(\"production_companies\",regexp_replace(col(\"production_companies\"),\"[^a-zA-Z\\s,.]\",\"\")) \\\n",
    "                                    .withColumn(\"status\",when(lower(trim(col(\"status\"))).isin([s.lower() for s in status_list]), trim(col(\"status\"))).otherwise(\"Others\"))  \\\n",
    "                                    .withColumn(\"production_companies\",trim(lower(col(\"production_companies\"))))\n",
    "                                       \n",
    "cleaned_df = cleaned_df.filter(cleaned_df[\"release_date\"].isNotNull() & cleaned_df[\"revenue\"].isNotNull() & cleaned_df[\"budget\"].isNotNull())\\\n",
    "            .select(\"id\",\"status\",\"genres\",\"release_date\",\"runtime\",\"year\",\"month\",\"budget\",\"revenue\",\"vote_count\",\"vote_average\",\"title\",\"production_companies\")\n",
    "cleaned_df = cleaned_df.fillna({\"genres\":\"NA\",\"title\":\"\",\"production_companies\":\"NA\"})\n",
    "\n",
    "print(f\"Total entries in cleaned data: {cleaned_df.count()}\")\n",
    "\n",
    "print(f\"Distinct status in cleaned data: {cleaned_df.select('status').distinct().count()}\")\n",
    "print(\"\\n\")\n",
    "print(f\"Distinct genres in cleaned data: {cleaned_df.select('genres').distinct().count()}\")\n",
    "print(\"\\n\")\n",
    "print(f\"Distinct production companies in cleaned data: {cleaned_df.select('production_companies').distinct().count()}\")\n"
   ]
  },
  {
   "cell_type": "code",
   "execution_count": 0,
   "metadata": {
    "application/vnd.databricks.v1+cell": {
     "cellMetadata": {
      "byteLimit": 2048000,
      "rowLimit": 10000
     },
     "inputWidgets": {},
     "nuid": "e6b65007-e53e-4e5d-862e-e658484a08df",
     "showTitle": false,
     "title": ""
    }
   },
   "outputs": [
    {
     "output_type": "stream",
     "name": "stdout",
     "output_type": "stream",
     "text": [
      "Column 'id' has 0 null values.\nColumn 'status' has 0 null values.\nColumn 'genres' has 0 null values.\nColumn 'release_date' has 0 null values.\nColumn 'year' has 0 null values.\nColumn 'month' has 0 null values.\nColumn 'budget' has 0 null values.\nColumn 'revenue' has 0 null values.\nColumn 'vote_count' has 0 null values.\nColumn 'vote_average' has 0 null values.\nColumn 'title' has 0 null values.\nColumn 'production_companies' has 0 null values.\n"
     ]
    }
   ],
   "source": [
    "# Count the null values in the cleaned df\n",
    "for col_name in cleaned_df.columns:\n",
    "    null_count = cleaned_df.filter(col(col_name).isNull()).count()\n",
    "    print(f\"Column '{col_name}' has {null_count} null values.\")\n"
   ]
  },
  {
   "cell_type": "code",
   "execution_count": 0,
   "metadata": {
    "application/vnd.databricks.v1+cell": {
     "cellMetadata": {
      "byteLimit": 2048000,
      "rowLimit": 10000
     },
     "inputWidgets": {},
     "nuid": "2946ec13-daff-4e3e-9afa-31cf5deb46ea",
     "showTitle": false,
     "title": ""
    }
   },
   "outputs": [],
   "source": [
    "#genre level data\n",
    "keywords = [\"action\", \"thriller\", \"crime\", \"comedy\", \"drama\", \"romance\", \"horror\", \"adventure\", \"documentary\",\"tv movie\", \"fantasy\",\"mystery\",\"history\",\"science fiction\",\"family\", \"war\",\"western\",\"animation\",\"na\"]\n",
    "genre_df = cleaned_df.withColumn(\"genres\",lower(col(\"genres\"))) \\\n",
    "                     .withColumn(\"unique_genres\", explode(split(col(\"genres\"),\", \"))).drop(\"genres\").withColumn(\"genres\",trim(col(\"unique_genres\"))).drop(\"unique_genres\").filter(col(\"genres\") \\\n",
    "                     .isin(keywords))\n",
    "yoy_genre_df = genre_df.groupBy(\"year\",\"genres\").agg(count(col(\"id\")).alias(\"total_movies\"), sum(col(\"budget\")).alias(\"total_budget\"), sum(col(\"revenue\")).alias(\"total_revenue\"), corr(col(\"budget\"),col(\"revenue\")).alias(\"budget_revenue_correlation\"))\n",
    "\n",
    "mby_genre_df = genre_df.groupBy(\"month\",\"genres\").agg(count(col(\"id\")).alias(\"total_movies\"), sum(col(\"budget\")).alias(\"total_budget\"), sum(col(\"revenue\")).alias(\"total_revenue\"), corr(col(\"budget\"),col(\"revenue\")).alias(\"budget_revenue_correlation\"))\n",
    "\n",
    "genre_agg_df = genre_df.groupBy(\"genres\").agg(count(col(\"id\")).alias(\"total_movies\"), sum(col(\"budget\")).alias(\"total_budget\"), sum(col(\"revenue\")).alias(\"total_revenue\"), corr(col(\"budget\"),col(\"revenue\")).alias(\"budget_revenue_correlation\"))\n",
    "\n"
   ]
  },
  {
   "cell_type": "code",
   "execution_count": 0,
   "metadata": {
    "application/vnd.databricks.v1+cell": {
     "cellMetadata": {
      "byteLimit": 2048000,
      "rowLimit": 10000
     },
     "inputWidgets": {},
     "nuid": "02824a5e-b870-46dd-8ea5-977049f4e0ae",
     "showTitle": false,
     "title": ""
    }
   },
   "outputs": [
    {
     "output_type": "stream",
     "name": "stdout",
     "output_type": "stream",
     "text": [
      "+----+------+------------+-------------+-------------+--------------------------+\n|year|genres|total_movies|total_budget |total_revenue|budget_revenue_correlation|\n+----+------+------------+-------------+-------------+--------------------------+\n|2023|drama |10379       |3.205250455E9|5.187245185E9|0.5452831224775868        |\n|2021|na    |9633        |2.8775614E7  |1.0724283E7  |-1.0442661562615438E-4    |\n|2022|drama |9341        |2.419772397E9|6.347856944E9|0.5708785585644467        |\n|2020|na    |8940        |7768524.0    |1.6222448E7  |0.01936607266319677       |\n|2022|na    |8560        |2.45766676E8 |2476071.0    |-2.3654401538571047E-5    |\n+----+------+------------+-------------+-------------+--------------------------+\nonly showing top 5 rows\n\n"
     ]
    }
   ],
   "source": [
    "### YOY Growth by genre \n",
    "yoy_genre_df.orderBy(col(\"total_movies\").desc()).show(5,False)"
   ]
  },
  {
   "cell_type": "code",
   "execution_count": 0,
   "metadata": {
    "application/vnd.databricks.v1+cell": {
     "cellMetadata": {
      "byteLimit": 2048000,
      "rowLimit": 10000
     },
     "inputWidgets": {},
     "nuid": "95866872-696b-49ac-a5a2-004ea53675d1",
     "showTitle": false,
     "title": ""
    }
   },
   "outputs": [
    {
     "output_type": "stream",
     "name": "stdout",
     "output_type": "stream",
     "text": [
      "+-----+-----------+------------+---------------+---------------+--------------------------+\n|month|genres     |total_movies|total_budget   |total_revenue  |budget_revenue_correlation|\n+-----+-----------+------------+---------------+---------------+--------------------------+\n|1    |na         |61141       |1.18082897E8   |3.0759825E7    |0.00867625480197731       |\n|1    |documentary|33264       |1.1813026E8    |4.71938344E8   |0.15570897260607067       |\n|1    |drama      |31095       |4.265659792E9  |7.050643651E9  |0.6219397323544973        |\n|10   |drama      |19643       |1.0371387046E10|1.8590852115E10|0.4991922665788824        |\n|9    |drama      |18495       |1.1388057498E10|2.079154531E10 |0.6348540681218942        |\n+-----+-----------+------------+---------------+---------------+--------------------------+\nonly showing top 5 rows\n\n"
     ]
    }
   ],
   "source": [
    "## Month By Month growth on genre\n",
    "mby_genre_df.orderBy(col(\"total_movies\").desc()).show(5,False)"
   ]
  },
  {
   "cell_type": "code",
   "execution_count": 0,
   "metadata": {
    "application/vnd.databricks.v1+cell": {
     "cellMetadata": {
      "byteLimit": 2048000,
      "rowLimit": 10000
     },
     "inputWidgets": {},
     "nuid": "fa857c8f-993c-4975-94c3-15035d0ff901",
     "showTitle": false,
     "title": ""
    }
   },
   "outputs": [
    {
     "output_type": "stream",
     "name": "stdout",
     "output_type": "stream",
     "text": [
      "+---------------+------------+----------------+----------------+--------------------------+\n|genres         |total_movies|total_budget    |total_revenue   |budget_revenue_correlation|\n+---------------+------------+----------------+----------------+--------------------------+\n|action         |38376       |1.10890885074E11|2.88051581018E11|0.7932478178052217        |\n|drama          |199305      |9.9885740128E10 |2.22429344714E11|0.6597071451636347        |\n|adventure      |20204       |9.7977276483E10 |2.87793872669E11|0.7700461652986312        |\n|comedy         |121427      |8.7868395574E10 |2.40146420408E11|0.7144258044435013        |\n|thriller       |39907       |6.7381790094E10 |1.53336549423E11|0.7456152318251615        |\n|science fiction|17368       |5.3828660124E10 |1.44895560343E11|0.7419260747644612        |\n|fantasy        |18887       |4.9591241724E10 |1.36047528284E11|0.7083470554989598        |\n|family         |24641       |4.5573316988E10 |1.33409390853E11|0.774841382668716         |\n|crime          |29939       |3.8145507027E10 |8.2987619552E10 |0.7314525286669885        |\n|romance        |46289       |3.6443825065E10 |9.919944542E10  |0.6601935088083066        |\n|mystery        |17002       |1.9610354967E10 |4.6804582723E10 |0.6989160143624814        |\n|horror         |43322       |1.9291628636E10 |4.7222676046E10 |0.6275434583687513        |\n|history        |14854       |1.6324554513E10 |2.7338854419E10 |0.6103349975401058        |\n|war            |9593        |1.130568496E10  |2.2920074734E10 |0.6953543593937086        |\n|western        |7787        |4.123353994E9   |6.873074331E9   |0.7015888972684123        |\n|documentary    |138837      |1.986020991E9   |3.556238705E9   |0.19081344860268562       |\n|tv movie       |23072       |1.379872151E9   |2.76308154E8    |0.0478788075700854        |\n|na             |204357      |1.328697212E9   |1.38530154E9    |0.09601789569742461       |\n+---------------+------------+----------------+----------------+--------------------------+\n\n"
     ]
    }
   ],
   "source": [
    "## Genre based data\n",
    "genre_agg_df.orderBy(col(\"total_budget\").desc(), col(\"total_revenue\").desc(), col(\"budget_revenue_correlation\").desc()).show(truncate=False)"
   ]
  },
  {
   "cell_type": "code",
   "execution_count": 0,
   "metadata": {
    "application/vnd.databricks.v1+cell": {
     "cellMetadata": {
      "byteLimit": 2048000,
      "rowLimit": 10000
     },
     "inputWidgets": {},
     "nuid": "29ec2654-ccb7-4b87-8168-73e67bf86141",
     "showTitle": false,
     "title": ""
    }
   },
   "outputs": [
    {
     "output_type": "stream",
     "name": "stdout",
     "output_type": "stream",
     "text": [
      "+------+--------+------------+-------+----+-----+------+-------+----------+------------+-------------------+--------------------+------+\n|id    |status  |release_date|runtime|year|month|budget|revenue|vote_count|vote_average|title              |production_companies|genres|\n+------+--------+------------+-------+----+-----+------+-------+----------+------------+-------------------+--------------------+------+\n|32841 |Released|1959-01-01  |0      |1959|1    |0.0   |0.0    |0         |0.0         |Naadodikal         |                    |na    |\n|35070 |Released|1959-11-14  |173    |1959|11   |0.0   |0.0    |4         |6.5         |Khovanshchina      |NA                  |na    |\n|74353 |Released|1959-01-01  |11     |1959|1    |0.0   |0.0    |6         |6.8         |Pátio              |NA                  |na    |\n|103098|Released|1959-01-01  |101    |1959|1    |0.0   |0.0    |0         |0.0         |15 under the canvas|NA                  |na    |\n|3923  |Released|1990-11-06  |27     |1990|11   |0.0   |0.0    |0         |0.0         |Jam Dwór Polski    |NA                  |na    |\n+------+--------+------------+-------+----+-----+------+-------+----------+------------+-------------------+--------------------+------+\nonly showing top 5 rows\n\n"
     ]
    }
   ],
   "source": [
    "#check samples of genre based df\n",
    "genre_df.filter(col(\"genres\")==\"na\").show(5,False)"
   ]
  },
  {
   "cell_type": "code",
   "execution_count": 0,
   "metadata": {
    "application/vnd.databricks.v1+cell": {
     "cellMetadata": {
      "byteLimit": 2048000,
      "rowLimit": 10000
     },
     "inputWidgets": {},
     "nuid": "561de360-4c78-4508-8aa0-283683654dfd",
     "showTitle": false,
     "title": ""
    }
   },
   "outputs": [
    {
     "output_type": "stream",
     "name": "stdout",
     "output_type": "stream",
     "text": [
      "Rows in genre df: 1015167\n**************************************************\nEntries where budget and revenue is 0: 923724\n"
     ]
    }
   ],
   "source": [
    "print(f\"Rows in genre df: {genre_df.count()}\")\n",
    "print(\"*\"*50)\n",
    "temp = genre_df.filter((col(\"budget\")==float(0)) & (col(\"revenue\")==float(0))).count()\n",
    "print(f\"Entries where budget and revenue is 0: {temp}\")"
   ]
  },
  {
   "cell_type": "code",
   "execution_count": 0,
   "metadata": {
    "application/vnd.databricks.v1+cell": {
     "cellMetadata": {
      "byteLimit": 2048000,
      "rowLimit": 10000
     },
     "inputWidgets": {},
     "nuid": "6971a0ca-9df2-4c33-a484-6c533b7c7b89",
     "showTitle": false,
     "title": ""
    }
   },
   "outputs": [
    {
     "output_type": "stream",
     "name": "stdout",
     "output_type": "stream",
     "text": [
      "+----+--------------------+----------------+-------------------+\n|year|prod_companies_count|prev_yr_pc_count|pc_yoy_growth_count|\n+----+--------------------+----------------+-------------------+\n|1865|                   1|               0|                  1|\n|1874|                   1|               1|                  2|\n|1878|                   1|               2|                  3|\n|1882|                   1|               3|                  4|\n|1885|                   1|               4|                  5|\n|1887|                   1|               5|                  6|\n|1888|                   3|               6|                  9|\n|1889|                   1|               9|                 10|\n|1890|                   4|              10|                 14|\n|1891|                   2|              14|                 16|\n|1892|                   2|              16|                 18|\n|1893|                   2|              18|                 20|\n|1894|                   7|              20|                 27|\n|1895|                   7|              27|                 34|\n|1896|                  17|              34|                 51|\n|1897|                  19|              51|                 70|\n|1898|                  15|              70|                 85|\n|1899|                  18|              85|                103|\n|1900|                  23|             103|                126|\n|1901|                  16|             126|                142|\n+----+--------------------+----------------+-------------------+\nonly showing top 20 rows\n\n"
     ]
    }
   ],
   "source": [
    "#production companies growth\n",
    "from pyspark.sql.window import Window\n",
    "pc_growth_df = cleaned_df.groupBy(\"year\").agg(countDistinct(col(\"production_companies\")).alias(\"prod_companies_count\"))\n",
    "pc_window =  Window.orderBy(\"year\").rowsBetween(Window.unboundedPreceding,-1)\n",
    "pc_growth_df = pc_growth_df.withColumn(\"prev_yr_pc_count\", sum(\"prod_companies_count\").over(pc_window)).withColumn(\"prev_yr_pc_count\",when(col(\"prev_yr_pc_count\").isNull(),0).otherwise(col(\"prev_yr_pc_count\")))\n",
    "\n",
    "pc_growth_df = pc_growth_df.withColumn(\"pc_yoy_growth_count\",col(\"prod_companies_count\")+col(\"prev_yr_pc_count\"))\n",
    "\n",
    "pc_growth_df.orderBy(col(\"year\")).show()"
   ]
  },
  {
   "cell_type": "code",
   "execution_count": 0,
   "metadata": {
    "application/vnd.databricks.v1+cell": {
     "cellMetadata": {
      "byteLimit": 2048000,
      "rowLimit": 10000
     },
     "inputWidgets": {},
     "nuid": "4557d214-d523-4d9b-bbd3-7b6c307278a8",
     "showTitle": false,
     "title": ""
    }
   },
   "outputs": [
    {
     "output_type": "stream",
     "name": "stdout",
     "output_type": "stream",
     "text": [
      "+----+--------------------+----------------+-------------------+\n|year|prod_companies_count|prev_yr_pc_count|pc_yoy_growth_count|\n+----+--------------------+----------------+-------------------+\n|2115|                   1|           32548|              32549|\n|2074|                   1|           32547|              32548|\n|2064|                   1|           32546|              32547|\n|2031|                   1|           32545|              32546|\n|2030|                   1|           32544|              32545|\n|2029|                   2|           32542|              32544|\n|2028|                   1|           32541|              32542|\n|2027|                   3|           32538|              32541|\n|2026|                   6|           32532|              32538|\n|2025|                  20|           32512|              32532|\n|2024|                 475|           32037|              32512|\n|2023|                1206|           30831|              32037|\n|2022|                1103|           29728|              30831|\n|2021|                1080|           28648|              29728|\n|2020|                 963|           27685|              28648|\n|2019|                1057|           26628|              27685|\n|2018|                 970|           25658|              26628|\n|2017|                 899|           24759|              25658|\n|2016|                 850|           23909|              24759|\n|2015|                 821|           23088|              23909|\n+----+--------------------+----------------+-------------------+\nonly showing top 20 rows\n\n"
     ]
    }
   ],
   "source": [
    "#production_companies_growth_descending\n",
    "pc_growth_df.orderBy(col(\"year\").desc()).show()"
   ]
  },
  {
   "cell_type": "code",
   "execution_count": 0,
   "metadata": {
    "application/vnd.databricks.v1+cell": {
     "cellMetadata": {
      "byteLimit": 2048000,
      "rowLimit": 10000
     },
     "inputWidgets": {},
     "nuid": "a2778b44-52a4-43e7-aee6-2514cb9ae4c9",
     "showTitle": false,
     "title": ""
    }
   },
   "outputs": [
    {
     "output_type": "stream",
     "name": "stdout",
     "output_type": "stream",
     "text": [
      "Entries with runtime greater than 300 or less than 0: 1360\nEntries with vote average greater than 90 or less than 0: 0\nEntries with budget or revenue less than 0: 1\nEntries in cleaned df after remove outliers: 820295\n"
     ]
    }
   ],
   "source": [
    "#finding outliers:\n",
    "\n",
    "runtime_otl = cleaned_df.filter((col(\"runtime\")>300) | (col(\"runtime\")<0))\n",
    "print(f\"Entries with runtime greater than 300 or less than 0: {runtime_otl.count()}\")\n",
    "\n",
    "#cleaning runtime outliers via anti join\n",
    "cleaned_df = cleaned_df.join(runtime_otl,runtime_otl.id==cleaned_df.id, how=\"left_anti\")\n",
    "\n",
    "vote_avg_otl = cleaned_df.filter((col(\"vote_average\")>float(90)) | (col(\"vote_average\")<float(0)))\n",
    "print(f\"Entries with vote average greater than 90 or less than 0: {vote_avg_otl.count()}\")\n",
    "\n",
    "#cleaning runtime outliers via anti join\n",
    "cleaned_df = cleaned_df.join(runtime_otl,vote_avg_otl.id==cleaned_df.id, how=\"left_anti\")\n",
    "\n",
    "\n",
    "budget_revenue_otl = cleaned_df.filter((col(\"budget\")<float(0)) | (col(\"revenue\")<float(0)))\n",
    "print(f\"Entries with budget or revenue less than 0: {budget_revenue_otl.count()}\")\n",
    "\n",
    "#cleaning budget and revenue outliers via anti join\n",
    "cleaned_df = cleaned_df.join(runtime_otl, budget_revenue_otl.id==cleaned_df.id, how=\"left_anti\")\n",
    "\n",
    "#\n",
    "print(f\"Entries in cleaned df after remove outliers: {cleaned_df.count()}\")\n",
    "\n"
   ]
  },
  {
   "cell_type": "code",
   "execution_count": 0,
   "metadata": {
    "application/vnd.databricks.v1+cell": {
     "cellMetadata": {
      "byteLimit": 2048000,
      "rowLimit": 10000
     },
     "inputWidgets": {},
     "nuid": "4abea39c-f7a9-4540-8e68-2157624436ed",
     "showTitle": false,
     "title": ""
    }
   },
   "outputs": [
    {
     "output_type": "stream",
     "name": "stdout",
     "output_type": "stream",
     "text": [
      "root\n |-- id: string (nullable = true)\n |-- status: string (nullable = true)\n |-- genres: string (nullable = false)\n |-- release_date: date (nullable = true)\n |-- runtime: integer (nullable = true)\n |-- year: string (nullable = true)\n |-- month: string (nullable = false)\n |-- budget: float (nullable = true)\n |-- revenue: float (nullable = true)\n |-- vote_count: integer (nullable = true)\n |-- vote_average: float (nullable = true)\n |-- title: string (nullable = false)\n |-- production_companies: string (nullable = false)\n\n"
     ]
    }
   ],
   "source": [
    "#schema of cleaned data\n",
    "cleaned_df.printSchema()"
   ]
  },
  {
   "cell_type": "code",
   "execution_count": 0,
   "metadata": {
    "application/vnd.databricks.v1+cell": {
     "cellMetadata": {
      "byteLimit": 2048000,
      "rowLimit": 10000
     },
     "inputWidgets": {},
     "nuid": "59c16dc7-f0ca-4ebd-b164-1226e2b29c40",
     "showTitle": false,
     "title": ""
    }
   },
   "outputs": [
    {
     "output_type": "stream",
     "name": "stdout",
     "output_type": "stream",
     "text": [
      "successfully loaded filtered data in s3 path: s3a://tmdb-movies-datalake/movie-ratings-filtered/\n"
     ]
    }
   ],
   "source": [
    "#write cleaned data to a s3 bucket\n",
    "FILTERED_DATA_S3_PATH = \"s3a://tmdb-movies-datalake/movie-ratings-filtered/\"\n",
    "cleaned_df.write.mode(\"overwrite\").partitionBy(\"month\").parquet(FILTERED_DATA_S3_PATH)\n",
    "print(f\"successfully loaded filtered data in s3 path: {FILTERED_DATA_S3_PATH}\")"
   ]
  },
  {
   "cell_type": "code",
   "execution_count": 0,
   "metadata": {
    "application/vnd.databricks.v1+cell": {
     "cellMetadata": {
      "byteLimit": 2048000,
      "rowLimit": 10000
     },
     "inputWidgets": {},
     "nuid": "7494045a-5419-413b-8c98-26977799f4db",
     "showTitle": false,
     "title": ""
    }
   },
   "outputs": [
    {
     "output_type": "stream",
     "name": "stdout",
     "output_type": "stream",
     "text": [
      "+-------+--------+---------------------------------------------------------------------------------------------------------------------------------------------------------------------------------------------------------------------------------------------------------------------------------------------------------------------------------------------------------------------------------------------------------------------------------------------------------------------------------------------------------------------------------------------------------------------------------------------------------------------------------------------------------------------------------------------------------------------------------------------------+------------+-------+----+-----+------+-------+----------+------------+-----------------------------------------------------------------+-------------------------------------------------------------------------------------------------------------------------------------------------------------------+----------+\n|id     |status  |genres                                                                                                                                                                                                                                                                                                                                                                                                                                                                                                                                                                                                                                                                                                                                             |release_date|runtime|year|month|budget|revenue|vote_count|vote_average|title                                                            |production_companies                                                                                                                                               |genres_len|\n+-------+--------+---------------------------------------------------------------------------------------------------------------------------------------------------------------------------------------------------------------------------------------------------------------------------------------------------------------------------------------------------------------------------------------------------------------------------------------------------------------------------------------------------------------------------------------------------------------------------------------------------------------------------------------------------------------------------------------------------------------------------------------------------+------------+-------+----+-----+------+-------+----------+------------+-----------------------------------------------------------------+-------------------------------------------------------------------------------------------------------------------------------------------------------------------+----------+\n|577585 |Released| in this case I will sometimes wear things longer but after  days I wear new clothes that are all fresh And so begins the film created by the German artist Corinna Schnitt Here she presents us the relfections of a young woman on her balcony shaking her laundry The private thoughts of this woman are drowned in her own delirium which is accentuated and framed in by films repetitive imagery The camera slowly zooms out to reveal the urban decor in which the film was made The anonymous facades of the surrounding apartment blocks pushes us to imagine that behind each one of these buildings hides a collection of unique lifestyles and thoughts The artist brings this to light through a strange and almost sad sense of humor|1999-01-01  |7      |1999|1    |0.0   |0.0    |0         |0.0         |Out of Your Clothes                                              |.                                                                                                                                                                  |723       |\n|219204 |Released| The American Dragon reigned as ROH World Champion for fifteen months and set a record for successful title defenses Danielson has been a part of many of the greatest matches in ROH history and this DVD is a showcase of just some of those epic confrontations   Bryan Danielson vs SpankyBest of the American Super Juniors   Bryan Danielson vs James GibsonROH World Title Match Glory By Honor IV   Bryan Danielson vs Nigel McGuinnessROH World Title vs Pure Title Unification Match Unified   Bryan Danielson vs KENTAROH World Title Match Glory By Honor V Night    Bryan Danielson vs Takeshi MorishimaROH World Title Match Manhattan Mayhem II   Bryan Danielson vs Tyler BlackBreakout                                            |2009-09-06  |178    |2009|9    |0.0   |0.0    |0         |0.0         |ROH: Bryan Danielson - Rise To Glory                             |.                                                                                                                                                                  |679       |\n|1171140|Released| it is full of offshots  Setlist  To be or not to be  Tackey  Tsubasa  Yume Monogatari  Tackey  Tsubasa  Hito Natsu no  Tackey  Tsubasa  Sora no Screen rainbow in my soul  Tackey  Tsubasa  One Day One Dream  Tackey  Tsubasa  Ai Sekai  Tackey  Tsubasa  Kanaide  Tsubasa Imai   GO ON  Tsubasa Imai  Erotic Dance   Hideaki Takizawa  A night for two  Hideaki Takizawa  Ai Shitagari  Tackey  Tsubasa  Ai Check it   Tackey  Tsubasa  Camilla Tamara  Tackey  Tsubasa  Tremolo  Tackey  Tsubasa  Sostugyou Goodbye for Tomorrow  Tackey  Tsubasa  Pride  the END  Tackey  Tsubasa  Diamond  Tackey  Tsubasa  Dream Boy  Hideaki Takizawa  Indelible Sadness Indelible Memories  Tsubasa Imai                                                  |2005-02-02  |133    |2005|2    |0.0   |0.0    |0         |0.0         |Tackey & Tsubasa Spring Concert 2004                             |.                                                                                                                                                                  |673       |\n|1106296|Released| this experimental animation explores the interplay of abstract shapes and motions  How can the substance of motion be visualized What degree of abstraction allows a communication with the viewer  Therefore movements of famous Olympians were digitalized into D through motion tracking and rotoscoping of original footage of Olympic competitions Camera motions and playback speed of the footage were borrowed and the movements of the athletes were recreated frame by frame  The specific character of each sport is reflected in the visual language and the illustration of its motions                                                                                                                                              |2014-09-26  |3      |2014|9    |0.0   |0.0    |0         |0.0         |Citius, Altius, Fortius                                          |.                                                                                                                                                                  |581       |\n|1257185|Released| central Gaza It was destroyed in October by an Israeli missile strike  The destruction of more than a third of Gazas homes as Israel bombards the territory in pursuit of Hamas is leading international legal experts to raise the concept of domicide the mass destruction of dwellings to make the territory uninhabitable  The Guardian spent two days with Samah and her family in December to see the remains of their house and how they are surviving the war She told the filmmaker Majdi Fathi about why they decided this was the safest place for them to be                                                                                                                                                                          |2024-01-24  |7      |2024|1    |0.0   |0.0    |0         |0.0         |Why I stay: Living inside the ruins of my Gaza home              |.                                                                                                                                                                  |553       |\n|693578 |Released| Alan Courtis and other music journalists as they seek to describe the indescribable Squicos Litoraleos Alejandro Gallo Bermdez never tries to profile the members of the band from Curuz Cuati the director appears to respect the privacy of a group that keeps its distance with different outfits and an ongoing quest to alter perceptions The documentary shifts between the cultural shockwaves made by the group from Corrientes at home and at European festivals and the unintended creation of a rural psychedelic scene at the NorthEast of Argentina                                                                                                                                                                                  |2019-07-11  |80     |2019|7    |0.0   |0.0    |1         |9.0         |Encandilan luces. Viaje psicotrópico con los síquicos litoraleños|as well as an unexpected clash with the Curuz Cuati native Cristian Osorio                                                                                         |545       |\n|966034 |Released| an unpublished novelist who lives along the South Shore of Nova Scotia For a full day David Askevold set up a feeder to see the reaction of the crows who regularly fly around his backyard to his camera he had placed on a tripod nearby The resulting footage is juxtaposed with the letters Grevatt wrote to long time friend Norma Ready between October  and July  Background sound consists of appropriated music from the radio and original keyboard music by Askevold created while listening to the three tracks and viewing the edited footage                                                                                                                                                                                        |1994-01-01  |29     |1994|1    |0.0   |0.0    |0         |0.0         |Don't Eat Crow                                                   |.                                                                                                                                                                  |539       |\n|1139232|Released| to his year tenure on Capitol Hill where he wielded power as Speaker of the House during the darkest days of the Great Depression Garner ran as a presidential candidate at the  Democratic Convention and twice served as vice president to Franklin D Roosevelt Cactus Jack offers insights into this brazen political dealmaker who helped reshape the Democratic Party and push through New Deal legislation Cactus Jack Lone Star on Capitol Hill opens new chapters in US historyand provides vital clues to the way our nation does business today                                                                                                                                                                                         |2016-01-17  |56     |2016|1    |0.0   |0.0    |0         |0.0         |Cactus Jack: Lone Star on Capitol Hill                           |.                                                                                                                                                                  |538       |\n|408434 |Released| and nearly succeeds in his mission Luckenbach is a great portrait artist suffering under the slight handicap of being unable to do ears The artist has painted a beautiful portrait of the wife of Pietro Cellini with the exception that her left ear is several times larger than it should be and not painted very well at that Cellini also holds the keys to the city and Luckenbach getting the job of painting the city hall rides on Cellinis satisfaction with his wifes portrait Andy accompanies the artist back to his studio                                                                                                                                                                                                         |1933-01-29  |20     |1933|1    |0.0   |0.0    |1         |1.0         |Artist's Muddles                                                 |and this short being made in the precode days ensures the studio is filled with models wearing a little less than somewhat and less than that in a couple of cases.|522       |\n|213340 |Released| each member of this cast has his own little secret Zach is a Hollywood leading man apparently being blackmailed by  mysterious women Jane was a former daytime soap star who had to abruptly leave her popular role due to problems at home Bill is a male model whose marital status would rather be kept secret by his agent Gaby is a struggling actress determined to make it on her own and Sabina is a legendary film star who must now take a role on a television series due to a serious involvement in San Francisco One by one                                                                                                                                                                                                         |1992-04-06  |93     |1992|4    |0.0   |0.0    |5         |3.8         |Secrets                                                          |their secrets unfold in this television movie based on the bestseller by Danielle Steel. Summary Written by Phil Fernando                                          |522       |\n+-------+--------+---------------------------------------------------------------------------------------------------------------------------------------------------------------------------------------------------------------------------------------------------------------------------------------------------------------------------------------------------------------------------------------------------------------------------------------------------------------------------------------------------------------------------------------------------------------------------------------------------------------------------------------------------------------------------------------------------------------------------------------------------+------------+-------+----+-----+------+-------+----------+------------+-----------------------------------------------------------------+-------------------------------------------------------------------------------------------------------------------------------------------------------------------+----------+\nonly showing top 10 rows\n\n"
     ]
    }
   ],
   "source": [
    "cleaned_df.withColumn(\"genres_len\",length(col(\"genres\"))).orderBy(col(\"genres_len\").desc()).show(10,False)"
   ]
  },
  {
   "cell_type": "code",
   "execution_count": 0,
   "metadata": {
    "application/vnd.databricks.v1+cell": {
     "cellMetadata": {
      "byteLimit": 2048000,
      "rowLimit": 10000
     },
     "inputWidgets": {},
     "nuid": "2865286b-526a-4dbb-bdfe-d429578f3172",
     "showTitle": false,
     "title": ""
    }
   },
   "outputs": [
    {
     "output_type": "stream",
     "name": "stdout",
     "output_type": "stream",
     "text": [
      "+-------+--------+----------------------------------+------------+-------+----+-----+---------+---------+----------+------------+-----------------------------------------------------------------------------------+----------------------------------------------------------------------------------------------------------------------------------------------------------------------------------------------------------------------------------------------------------------------------------------------------------------------------------------------------------------------------------------------------------------------------------------------------------------------------------------------------------------------------------------------------------------------------------------------------------------------------------------------------------------------------------------------------------------------+------+\n|id     |status  |genres                            |release_date|runtime|year|month|budget   |revenue  |vote_count|vote_average|title                                                                              |production_companies                                                                                                                                                                                                                                                                                                                                                                                                                                                                                                                                                                                                                                                                                                  |pc_len|\n+-------+--------+----------------------------------+------------+-------+----+-----+---------+---------+----------+------------+-----------------------------------------------------------------------------------+----------------------------------------------------------------------------------------------------------------------------------------------------------------------------------------------------------------------------------------------------------------------------------------------------------------------------------------------------------------------------------------------------------------------------------------------------------------------------------------------------------------------------------------------------------------------------------------------------------------------------------------------------------------------------------------------------------------------+------+\n|74639  |Released|Action, Thriller, Crime           |2011-08-18  |121    |2011|8    |8000000.0|4040142.0|65        |6.485       |Overheard 2                                                                        |Bona Entertainment, SilMetropole Organisation, Pop Movies, CathayKeris Films, Twin Co. Ltd., FreeD Workshop Company, CathayKeris Films Pte Ltd, Shaw Brothers, CG Entertainment, Tucker Film, Far East Film Festival, Udine IT, Top Works Beijing Culture Media, Hong Kong Baptist University Academy of Film, Shun Hing Group, Regus HK Management, Kodak Hong Kong Ltd., AnswerMark Studio, Aberdeen Boat Club, Broadlearning Education Asia, Highways Department, InterContinental Hong Kong, Kantana Laboratories Co., Leisure and Cultural Services Department, Media Business Service Limited, Oriental Post Co. Ltd., Panasonic Corporation, Police Public Relations Branch, ViewSonic, Wilson Parking Holdings|694   |\n|314641 |Released| Chris Kadillak                   |2011-10-22  |156    |2011|10   |0.0      |0.0      |0         |0.0         |PWG: Steen Wolf                                                                    |amp Candice LeRae  Singles Match  . TJ Perkins vs. Azcar Rocky Romero  Tag Team Match  . Fightin Taylor Boys Brian CageTaylor amp Ryan Taylor vs. RockNES Monsters Johnny Goodtime amp Johnny Yuma  Singles Match  . Willie Mack vs. Davey Richards  Tag Team Match  . The Dynasty Joey Ryan amp Scorpio Sky vs. Los Luchas Phoenix Star amp Zokre  Singles Match  . Ricochet vs. Chuck Taylor  Pro Wrestling Guerrilla World Tag Team Championship Title Match  . The Young Bucks Matt amp Nick Jackson  Champions vs. Future Shock Adam Cole amp Kyle OReilly  Challengers  Pro Wrestling Guerrilla World Championship Title Ladder Match  . Mr. Wrestling Kevin Steen Champion vs. El Generico Challenger          |684   |\n|1080523|Released| the graduate engineer Kurt Denzer|1993-01-01  |30     |1993|1    |0.0      |0.0      |0         |0.0         |Memories of Masuria and Gdansk                                                     |who was born in  as the seventh child of the landowner Wilhelm Denzer on the parental estate Kukowken. He attended the oneclass village school in Kukowken and the grammar schools in Lyck and Knigsberg. He graduated from the Technical University of Gdansk with a degree in engineering. From  he was employed as a construction foreman at Strabag BauAG Berlin for the construction of freeways and airfields. From  he was a lecturer at the engineering school in LageLippe and later cofounder of the Lippe University of Applied Sciences. He and his wife Lilly died in Detmold in November .                                                                                                              |584   |\n|63453  |Released| UK                               |1992-08-02  |0      |1992|8    |0.0      |0.0      |0         |0.0         |Genesis - A Midsummer Night's Dance                                                |nd August . Tracks DVD   . Land of Confusion . No Son of Mine . Driving the Last Spike . Old Medley Dance on a Volcano  The Lamb Lies Down on Broadway  Musical Box  Firth of Fifth  I Know What I Like including small parts of Follow You Follow Me  Thats All  Your Own Special Way  Stagnation . Throwing It All Away . Fading Lights . Jesus He Knows Me DVD   . Home By the Sea  Second Home By the Sea . Hold on My Heart . Domino i In The Glow of the Night ii The Last Domino . Drum Duet . I Cant Dance Encore . Tonight Tonight Tonight . Invisible Touch . Turn it On Again                                                                                                                              |568   |\n|350037 |Released|Drama                             |2016-11-30  |86     |2016|11   |0.0      |0.0      |10        |6.7         |Wolf and Sheep                                                                     |Adomeit Film, LA FABRICA NOCTURNA PRODUCTIONS, Cinereach, Cinfondation, Danish Arts Foundation, Det Danske Filminstitut, Eurimages, Film i Vst, Filmwerkstatt Kiel, French Embassy in Afghanistan, Hong Kong Asia Film Financing Forum, Institut Franais dAfghanistan, Ministre des Affaires trangres, New Danish Screen, SchleswigHolstein Film Commission, Robbers Dog Films, The Swiss Agency for Development  Cooperation, Visions Sud Est, Wolf Pictures, Women Make Movies, Wouter Barendrecht Film Foundation, Zentropa International Sweden, CNC, Creative Europe Media                                                                                                                                       |559   |\n|145    |Released|Drama, Romance                    |1996-08-29  |158    |1996|8    |7500000.0|2.3E7    |909       |7.5         |Breaking the Waves                                                                 |Det Danske Filminstitut, ARTE, Argus Film Produktie, Canal, CoBo Fonds, Coproduction Office, Eurimages, European Script Fund, Finnish Film Foundation, Icelandic Film Centre, La Sept Cinma, Liberator Productions, Lucky Red, Media Investment Club Media Programme of the European Union, Memfis Film, Nederlands Filmfonds, Nordisk Film  TV Fond, Northern Lights, Norsk Filminstitutt, October Films, SVT Drama, Slot Machine, Svenska Filminstitutet, TV  Sverige, Trust Film Svenska, Villealfa Filmproductions, VPRO, YLE, Zentropa Entertainments, ZDF                                                                                                                                                       |543   |\n|492622 |Released| still your mind                  |2004-12-07  |60     |2004|12   |0.0      |0.0      |0         |0.0         |Kundalini Yoga with Gurmukh                                                        |and set your spirit free.  Celebrated yoga teacher Gurmukh guides you through an invigorating series of selfpaced yoga sets that give your body an active workout and help you develop inner peace and outer strength. This is a yoga practice to help you thrive amid the challenges of todays stressfilled world.  Kundalini Yoga takes you on a journey of joyful selfdiscovery and complements all other yoga practices and exercise programs. Experience a radiant transformation as you build longlasting health benefits and increase your endurance                                                                                                                                                           |539   |\n|646245 |Released|  UK vinyl charts                 |2019-10-25  |121    |2019|10   |0.0      |0.0      |1         |8.0         |Steve Hackett : Genesis Revisited Band & Orchestra: Live at the Royal Festival Hall|Genesis Revisited Band  Orchestra Live now encourages you to discover a stunning new dimension of Hacketts own and classic Genesis material Genesis Revisited Band  Orchestra Live was recorded in October  at Londons Royal Festival Hall featuring classic Genesis  Steve Hackett solo material performed alongside a piece orchestra Easily one of the most impressive Steve Hackett live releases to date offering a brilliant fusion of prog rock and orchestral grandeur. Available as a CD  BluRay digipak including stereo and . surround mix                                                                                                                                                                 |533   |\n|8342   |Released|Action, History, War              |2001-05-12  |98     |2001|5    |1012153.0|4858869.0|410       |7.472       |No Man's Land                                                                      |Foundation Montecinema Verit, Counihan Villiers Productions, No Productions, Fabrica, Mans Films, Studio Maj, The Centre du Cinema et de lAudiovisuel de la Communaut Franaise de Belgique, Tldistributeurs Wallons, Slovenian Film Fund, Eurimages, British Screen Finance Ltd, TPS Cinma, Multivision, Canal  Belgique, Fondazione MonteCinemaVerit Locarno, Direction du Dveloppement et de la Coopration DDC, Dpartement Fdral des Affaires Etrangres, The European CoProduction Fund Limited, RTBF, RAI, United Artists, MetroGoldwynMayer                                                                                                                                                                       |527   |\n|362783 |Released| Rocky Azcar Romero               |2007-04-08  |174    |2007|4    |0.0      |0.0      |0         |0.0         |PWG: All Star Weekend V - Night Two                                                |Ronin  Singles Match  . Chris Hero vs. Davey Richards  Tag Team Match  . Classic Colt Cabana  Top Gun Talwar vs. Disco Machine  Kikutaro  Singles Match  . Double C Claudio Castagnoli vs. Alex Shelley  Singles Match  . Kaz Hayashi vs. The Man That Gravity Forgot PAC  Tag Team Match  . Arrogance Photogenic Chris Bosh  The Professional Scott Lost vs. Jack Evans  Roderick Strong  Pro Wrestling Guerrilla World Championship Title Match  . El Generico c vs. Human Tornado w Candice LeRae  Singles Match  . Low Ki vs. Samoa Joe                                                                                                                                                                           |523   |\n+-------+--------+----------------------------------+------------+-------+----+-----+---------+---------+----------+------------+-----------------------------------------------------------------------------------+----------------------------------------------------------------------------------------------------------------------------------------------------------------------------------------------------------------------------------------------------------------------------------------------------------------------------------------------------------------------------------------------------------------------------------------------------------------------------------------------------------------------------------------------------------------------------------------------------------------------------------------------------------------------------------------------------------------------+------+\nonly showing top 10 rows\n\n"
     ]
    }
   ],
   "source": [
    "cleaned_df.withColumn(\"pc_len\",length(col(\"production_companies\"))).orderBy(col(\"pc_len\").desc()).show(10,False)"
   ]
  },
  {
   "cell_type": "code",
   "execution_count": 0,
   "metadata": {
    "application/vnd.databricks.v1+cell": {
     "cellMetadata": {
      "byteLimit": 2048000,
      "rowLimit": 10000
     },
     "inputWidgets": {},
     "nuid": "30d6e63f-3781-4253-898f-59572e8c5a2a",
     "showTitle": false,
     "title": ""
    }
   },
   "outputs": [
    {
     "output_type": "stream",
     "name": "stdout",
     "output_type": "stream",
     "text": [
      "Out[31]: 197996"
     ]
    }
   ],
   "source": [
    "cleaned_df.select(\"production_companies\").distinct().count()"
   ]
  },
  {
   "cell_type": "code",
   "execution_count": 0,
   "metadata": {
    "application/vnd.databricks.v1+cell": {
     "cellMetadata": {
      "byteLimit": 2048000,
      "rowLimit": 10000
     },
     "inputWidgets": {},
     "nuid": "fba094a2-f0fe-474b-9d4b-ddb41358160f",
     "showTitle": false,
     "title": ""
    }
   },
   "outputs": [
    {
     "output_type": "stream",
     "name": "stdout",
     "output_type": "stream",
     "text": [
      "+----+-----------+----------------+-------------------+\n|year|pc_distinct|prev_yr_pc_count|pc_yoy_growth_count|\n+----+-----------+----------------+-------------------+\n|2074|1          |338113          |338114             |\n|2031|2          |338111          |338113             |\n|2029|3          |338108          |338111             |\n|2027|8          |338100          |338108             |\n|2026|42         |338058          |338100             |\n|2025|196        |337862          |338058             |\n|2024|6224       |331638          |337862             |\n|2023|17442      |314196          |331638             |\n|2022|16249      |297947          |314196             |\n|2021|15169      |282778          |297947             |\n|2020|13943      |268835          |282778             |\n|2019|14867      |253968          |268835             |\n|2018|13589      |240379          |253968             |\n|2017|12813      |227566          |240379             |\n|2016|11881      |215685          |227566             |\n|2015|11287      |204398          |215685             |\n|2014|10383      |194015          |204398             |\n|2013|9384       |184631          |194015             |\n|2012|8243       |176388          |184631             |\n|2011|7780       |168608          |176388             |\n+----+-----------+----------------+-------------------+\nonly showing top 20 rows\n\n"
     ]
    }
   ],
   "source": [
    "\n",
    "#production company filtering \n",
    "keywords = [\"action\", \"thriller\", \"crime\", \"comedy\", \"drama\", \"romance\", \"horror\", \"adventure\", \"documentary\",\"tv movie\", \"fantasy\",\"mystery\",\"history\",\"science fiction\",\"family\", \"war\",\"western\",\"na\",\"\", \"animation\"]\n",
    "\n",
    "pc1 = cleaned_df.withColumn(\"pc\",explode(split(col(\"production_companies\"),\", \"))).withColumn(\"pc\",trim(lower(col(\"pc\")))).filter(~col(\"pc\").isin(keywords)).filter(length(col(\"pc\"))>5).filter(regexp_like(col(\"production_company\"),'^[a-zA-Z]+(\\.[a-zA-Z]+)*$'))\n",
    "\n",
    "ws = Window.partitionBy(\"production_company\").orderBy(\"year\")\n",
    "pc_ranked_df = pc1.withColumn(\"pc_rank\", dense_rank().over(ws))\n",
    "pc_ranked_df = pc_ranked_df.filter(col(\"pc_rank\") == 1)\n",
    "pc_distinct_df = pc_ranked_df.groupBy(\"year\").agg(countDistinct(\"pc\").alias(\"pc_distinct\"))\n",
    "\n",
    "\n",
    "window = Window.orderBy(\"year\").rowsBetween(Window.unboundedPreceding, -1)\n",
    "\n",
    "pc_distinct_df = pc_distinct_df.withColumn(\"prev_yr_pc_count\", sum(\"pc_distinct\").over(pc_window)).withColumn(\"prev_yr_pc_count\",when(col(\"prev_yr_pc_count\").isNull(),0).otherwise(col(\"prev_yr_pc_count\")))\n",
    "\n",
    "pc_yoy_df = pc_distinct_df.withColumn(\"pc_yoy_growth_count\",col(\"pc_distinct\")+col(\"prev_yr_pc_count\"))\n",
    "\n",
    "pc_yoy_df.orderBy(col(\"year\").desc()).show(truncate=False)\n"
   ]
  },
  {
   "cell_type": "code",
   "execution_count": 0,
   "metadata": {
    "application/vnd.databricks.v1+cell": {
     "cellMetadata": {
      "byteLimit": 2048000,
      "rowLimit": 10000
     },
     "inputWidgets": {},
     "nuid": "de55e595-c229-497b-aab2-9c3f807f7b77",
     "showTitle": false,
     "title": ""
    }
   },
   "outputs": [
    {
     "output_type": "stream",
     "name": "stdout",
     "output_type": "stream",
     "text": [
      "+--------------------+-----+\n|                  pc|count|\n+--------------------+-----+\n|warner bros. pict...| 2955|\n|   columbia pictures| 2741|\n|   metrogoldwynmayer| 2685|\n|           paramount| 2400|\n|            onf  nfb| 2391|\n|  universal pictures| 2352|\n|        toei company| 2109|\n|nikkatsu corporation| 1693|\n|      th century fox| 1603|\n|             mosfilm| 1375|\n|        esk televize| 1282|\n|            shochiku| 1176|\n|  rko radio pictures| 1136|\n|       france  cinma| 1009|\n|    france tlvisions|  993|\n|walt disney produ...|  953|\n|filmov studio bar...|  926|\n|             lenfilm|  826|\n|   republic pictures|  785|\n|          daiei film|  782|\n+--------------------+-----+\nonly showing top 20 rows\n\n"
     ]
    }
   ],
   "source": [
    "temp  = pc1.groupBy(\"pc\").agg(count(\"*\").alias(\"count\")).orderBy(col(\"count\").desc())\n",
    "temp.show()"
   ]
  },
  {
   "cell_type": "code",
   "execution_count": 0,
   "metadata": {
    "application/vnd.databricks.v1+cell": {
     "cellMetadata": {
      "byteLimit": 2048000,
      "rowLimit": 10000
     },
     "inputWidgets": {},
     "nuid": "7c70b6fa-bc5e-461c-a408-1e0e806c9d62",
     "showTitle": false,
     "title": ""
    }
   },
   "outputs": [
    {
     "output_type": "stream",
     "name": "stdout",
     "output_type": "stream",
     "text": [
      "Out[43]: 155055"
     ]
    }
   ],
   "source": [
    "temp.select(\"pc\").count()"
   ]
  },
  {
   "cell_type": "code",
   "execution_count": 0,
   "metadata": {
    "application/vnd.databricks.v1+cell": {
     "cellMetadata": {
      "byteLimit": 2048000,
      "rowLimit": 10000
     },
     "inputWidgets": {},
     "nuid": "34f25330-bac0-4a32-a364-2467867a795f",
     "showTitle": false,
     "title": ""
    }
   },
   "outputs": [
    {
     "output_type": "stream",
     "name": "stdout",
     "output_type": "stream",
     "text": [
      "Out[47]: 15020"
     ]
    }
   ],
   "source": [
    "pc1.groupBy(\"pc\").agg(count(\"*\").alias(\"count\")).filter(col(\"count\")>5).select(\"pc\").count()"
   ]
  },
  {
   "cell_type": "code",
   "execution_count": 0,
   "metadata": {
    "application/vnd.databricks.v1+cell": {
     "cellMetadata": {
      "byteLimit": 2048000,
      "rowLimit": 10000
     },
     "inputWidgets": {},
     "nuid": "ee6e6d14-3a8a-4c11-a354-50ffdda826fc",
     "showTitle": false,
     "title": ""
    }
   },
   "outputs": [
    {
     "output_type": "stream",
     "name": "stdout",
     "output_type": "stream",
     "text": [
      "+----+----------------+\n|year|pc_count_by_year|\n+----+----------------+\n|2023|           10473|\n|2022|            9628|\n|2021|            9213|\n|2019|            8845|\n|2020|            8106|\n|2018|            7985|\n|2017|            7597|\n|2016|            6883|\n|2015|            6647|\n|2014|            6085|\n|2013|            5491|\n|2012|            4760|\n|2011|            4450|\n|2009|            4121|\n|2010|            4033|\n|2008|            3918|\n|2007|            3817|\n|2006|            3687|\n|2005|            3412|\n|2004|            3091|\n+----+----------------+\nonly showing top 20 rows\n\n"
     ]
    }
   ],
   "source": [
    "#pc more detailed filtering \n",
    "ws = Window.partitionBy(\"production_companies\").orderBy(\"year\")\n",
    "pc_ranked_df = cleaned_df.withColumn(\"production_companies\", lower(col(\"production_companies\")))\n",
    "pc_ranked_df = pc_ranked_df.withColumn(\"pc_rank\", dense_rank().over(ws))\n",
    "pc_ranked_df = pc_ranked_df.filter(col(\"pc_rank\") == 1)\n",
    "\n",
    "\n",
    "pc_df = pc_ranked_df.groupBy(\"year\").agg(countDistinct(col(\"production_companies\")).alias(\"pc_count_by_year\"))\n",
    "\n",
    "pc_df.orderBy(col(\"pc_count_by_year\").desc()).show()\n",
    "\n"
   ]
  },
  {
   "cell_type": "code",
   "execution_count": 0,
   "metadata": {
    "application/vnd.databricks.v1+cell": {
     "cellMetadata": {
      "byteLimit": 2048000,
      "rowLimit": 10000
     },
     "inputWidgets": {},
     "nuid": "3ccb0fcb-d063-43f5-8bfe-2369c6e67f17",
     "showTitle": false,
     "title": ""
    }
   },
   "outputs": [
    {
     "output_type": "stream",
     "name": "stderr",
     "output_type": "stream",
     "text": [
      "INFO:__main__:Reading file from path:s3a://tmdb-movies-datalake/movie-ratings-data/\n"
     ]
    },
    {
     "output_type": "stream",
     "name": "stdout",
     "output_type": "stream",
     "text": [
      "Entries in data: 908174\ncolumns in raw data: ['id', 'title', 'vote_average', 'vote_count', 'status', 'release_date', 'revenue', 'runtime', 'budget', 'imdb_id', 'original_language', 'original_title', 'overview', 'popularity', 'tagline', 'genres', 'production_companies', 'production_countries', 'spoken_languages', 'cast', 'director', 'director_of_photography', 'writers', 'producers', 'music_composer', 'month', 'year']\n"
     ]
    }
   ],
   "source": [
    "path = \"s3a://tmdb-movies-datalake/movie-ratings-data/\"\n",
    "tdf = obj.read_parquet(path,\"year\")\n",
    "\n",
    "if tdf:\n",
    "    print(f\"Entries in data: {tdf.count()}\")\n",
    "\n",
    "    print(f\"columns in raw data: {tdf.columns}\")\n",
    "else:\n",
    "    print(\"Error reading data\")\n"
   ]
  },
  {
   "cell_type": "code",
   "execution_count": 0,
   "metadata": {
    "application/vnd.databricks.v1+cell": {
     "cellMetadata": {
      "byteLimit": 2048000,
      "rowLimit": 10000
     },
     "inputWidgets": {},
     "nuid": "b52b8b4c-aaa8-4e12-91d7-563445872a4d",
     "showTitle": false,
     "title": ""
    }
   },
   "outputs": [],
   "source": [
    "#trasnformations\n",
    "\n",
    "def transform(df):\n",
    "    df = df.dropna(subset = [\"release_date\",\"revenue\",\"budget\"])\n",
    "    df = df.withColumn(\"vote_average\",col(\"vote_average\").cast(\"float\"))\\\n",
    "                        .withColumn(\"vote_count\",col(\"vote_count\").cast(\"integer\")) \\\n",
    "                        .withColumn(\"release_date\",to_date(\"release_date\")) \\\n",
    "                        .withColumn(\"revenue\", col(\"revenue\").cast(\"float\"))\\\n",
    "                        .withColumn(\"budget\", col(\"budget\").cast(\"float\"))\\\n",
    "                        .withColumn(\"runtime\", col(\"runtime\").cast(\"integer\"))\\\n",
    "                        .withColumn(\"year\",year(col(\"release_date\"))) \\\n",
    "                        .withColumn(\"month\",month(col(\"release_date\"))) \\\n",
    "                        .withColumn(\"popularity\",col(\"popularity\").cast(\"float\"))\n",
    "\n",
    "\n",
    "    df = df.withColumn(\"year\", col(\"year\").cast(\"string\")).withColumn(\"month\",format_string(\"%02d\", col(\"month\")))\n",
    "\n",
    "    status_list= [\"Released\",\"Planned\",\"In Production\",\"Post Production\",\"Cancelled\",\"Rumoured\",\"NA\"]\n",
    "    cleaned_df = df.repartition(col(\"month\")).withColumn(\"genres\",regexp_replace(col(\"genres\"), \"[^a-zA-Z\\s,]\", \"\")) \\\n",
    "                                        .withColumn(\"production_companies\",regexp_replace(col(\"production_companies\"),\"[^a-zA-Z\\s,.]\",\"\")) \\\n",
    "                                        .withColumn(\"status\",when(lower(trim(col(\"status\"))).isin([s.lower() for s in status_list]), trim(col(\"status\"))).otherwise(\"Others\"))  \\\n",
    "                                        .withColumn(\"production_companies\",trim(lower(col(\"production_companies\"))))\n",
    "                                        \n",
    "    cleaned_df = cleaned_df.filter(cleaned_df[\"release_date\"].isNotNull() & cleaned_df[\"revenue\"].isNotNull() & cleaned_df[\"budget\"].isNotNull())\\\n",
    "                .select(\"id\",\"status\",\"genres\",\"release_date\",\"runtime\",\"year\",\"month\",\"budget\",\"revenue\",\"vote_count\",\"vote_average\",\"title\",\"production_companies\")\n",
    "    cleaned_df = cleaned_df.fillna({\"genres\":\"NA\",\"title\":\"\",\"production_companies\":\"NA\"})\n",
    "\n",
    "    #cleaning outliers\n",
    "    runtime_otl = cleaned_df.filter((col(\"runtime\")>300) | (col(\"runtime\")<0))\n",
    "    #cleaning runtime outliers via anti join\n",
    "    cleaned_df = cleaned_df.join(runtime_otl,runtime_otl.id==cleaned_df.id, how=\"left_anti\")\n",
    "    vote_avg_otl = cleaned_df.filter((col(\"vote_average\")>float(90)) | (col(\"vote_average\")<float(0)))\n",
    "    #cleaning runtime outliers via anti join\n",
    "    cleaned_df = cleaned_df.join(runtime_otl,vote_avg_otl.id==cleaned_df.id, how=\"left_anti\")\n",
    "    budget_revenue_otl = cleaned_df.filter((col(\"budget\")<float(0)) | (col(\"revenue\")<float(0)))\n",
    "    #cleaning budget and revenue outliers via anti join\n",
    "    cleaned_df = cleaned_df.join(runtime_otl, budget_revenue_otl.id==cleaned_df.id, how=\"left_anti\")\n",
    "\n",
    "    return cleaned_df\n",
    "\n",
    "\n"
   ]
  },
  {
   "cell_type": "code",
   "execution_count": 0,
   "metadata": {
    "application/vnd.databricks.v1+cell": {
     "cellMetadata": {
      "byteLimit": 2048000,
      "rowLimit": 10000
     },
     "inputWidgets": {},
     "nuid": "509a8dbc-88e0-4d20-86e4-16f0ee7ee4b9",
     "showTitle": false,
     "title": ""
    }
   },
   "outputs": [],
   "source": [
    "cleaned_df = transform(tdf)"
   ]
  },
  {
   "cell_type": "code",
   "execution_count": 0,
   "metadata": {
    "application/vnd.databricks.v1+cell": {
     "cellMetadata": {
      "byteLimit": 2048000,
      "rowLimit": 10000
     },
     "inputWidgets": {},
     "nuid": "a8490ce1-6590-44e9-aa02-10c591914fb6",
     "showTitle": false,
     "title": ""
    }
   },
   "outputs": [
    {
     "output_type": "stream",
     "name": "stdout",
     "output_type": "stream",
     "text": [
      "Entries in cleaned df: 820295\nUnique dates in cleaned df :42387\n"
     ]
    }
   ],
   "source": [
    "print(f\"Entries in cleaned df: {cleaned_df.count()}\")\n",
    "print(f\"Unique dates in cleaned df :{cleaned_df.select('release_date').distinct().count()}\")\n"
   ]
  },
  {
   "cell_type": "code",
   "execution_count": 0,
   "metadata": {
    "application/vnd.databricks.v1+cell": {
     "cellMetadata": {
      "byteLimit": 2048000,
      "rowLimit": 10000
     },
     "inputWidgets": {},
     "nuid": "2cd973b1-bb67-4e58-902c-0c6c8c2eca47",
     "showTitle": false,
     "title": ""
    }
   },
   "outputs": [
    {
     "output_type": "stream",
     "name": "stdout",
     "output_type": "stream",
     "text": [
      "+------+--------+--------------------+------------+-------+----+-----+------+------------+----------+------------+--------------------+--------------------+\n|    id|  status|              genres|release_date|runtime|year|month|budget|     revenue|vote_count|vote_average|               title|production_companies|\n+------+--------+--------------------+------------+-------+----+-----+------+------------+----------+------------+--------------------+--------------------+\n|346698|Released|   Comedy, Adventure|  2023-07-19|    114|2023|   07|1.45E8| 1.4456384E9|      7775|         7.1|              Barbie|luckychap enterta...|\n|496450|Released|Animation, Fantas...|  2023-07-05|    107|2023|   07| 8.6E7|      4.01E7|       772|         7.7|Miraculous: Ladyb...|the awakening pro...|\n|457332|Released|Action, Adventure...|  2023-07-06|    103|2023|   07| 8.0E7|         0.0|       877|       6.983|       Hidden Strike|talent internatio...|\n|509447|Released|Horror, Fantasy, ...|  2023-07-14|     92|2023|   07|   0.0|         0.0|         1|        10.0|               Belle|                  NA|\n|508883|Released|Animation, Advent...|  2023-07-14|    124|2023|   07| 5.0E7|1.65208608E8|      1108|       7.441|The Boy and the H...|       studio ghibli|\n+------+--------+--------------------+------------+-------+----+-----+------+------------+----------+------------+--------------------+--------------------+\nonly showing top 5 rows\n\n"
     ]
    }
   ],
   "source": [
    "cleaned_df.show(5)"
   ]
  },
  {
   "cell_type": "code",
   "execution_count": 0,
   "metadata": {
    "application/vnd.databricks.v1+cell": {
     "cellMetadata": {
      "byteLimit": 2048000,
      "rowLimit": 10000
     },
     "inputWidgets": {},
     "nuid": "89216f01-0792-4291-ae39-001b6697d784",
     "showTitle": false,
     "title": ""
    }
   },
   "outputs": [
    {
     "output_type": "stream",
     "name": "stdout",
     "output_type": "stream",
     "text": [
      "+----+----------------+\n|year|pc_count_by_year|\n+----+----------------+\n|2023|           10473|\n|2022|            9628|\n|2021|            9213|\n|2019|            8845|\n|2020|            8106|\n|2018|            7985|\n|2017|            7597|\n|2016|            6883|\n|2015|            6647|\n|2014|            6085|\n|2013|            5491|\n|2012|            4760|\n|2011|            4450|\n|2009|            4121|\n|2010|            4033|\n|2008|            3918|\n|2007|            3817|\n|2006|            3687|\n|2005|            3412|\n|2004|            3091|\n+----+----------------+\nonly showing top 20 rows\n\n"
     ]
    }
   ],
   "source": [
    "from pyspark.sql.window import Window\n",
    "ws = Window.partitionBy(\"production_companies\").orderBy(\"year\")\n",
    "pc_ranked_df = cleaned_df.withColumn(\"production_companies\", lower(col(\"production_companies\"))).filter(col(\"production_companies\")!=\"na\")\n",
    "pc_ranked_df = pc_ranked_df.withColumn(\"pc_rank\", dense_rank().over(ws))\n",
    "pc_ranked_df = pc_ranked_df.filter(col(\"pc_rank\") == 1)\n",
    "\n",
    "pc_df = pc_ranked_df.groupBy(\"year\").agg(countDistinct(col(\"production_companies\")).alias(\"pc_count_by_year\"))\n",
    "\n",
    "window = Window.orderBy(\"year\").rowsBetween(Window.unboundedPreceding, -1)\n",
    "pc_distinct_df = pc_df.withColumn(\"prev_yr_pc_count\", sum(\"pc_count_by_year\").over(window)).withColumn(\"prev_yr_pc_count\",when(col(\"prev_yr_pc_count\").isNull(),0).otherwise(col(\"prev_yr_pc_count\")))\n",
    "\n",
    "pc_yoy_df = pc_distinct_df.withColumn(\"pc_yoy_growth_count\",col(\"pc_count_by_year\")+col(\"prev_yr_pc_count\"))\n"
   ]
  },
  {
   "cell_type": "code",
   "execution_count": 0,
   "metadata": {
    "application/vnd.databricks.v1+cell": {
     "cellMetadata": {
      "byteLimit": 2048000,
      "rowLimit": 10000
     },
     "inputWidgets": {},
     "nuid": "e20b4d13-1ee2-4e8b-9872-87b9def1fa1b",
     "showTitle": false,
     "title": ""
    }
   },
   "outputs": [
    {
     "output_type": "stream",
     "name": "stdout",
     "output_type": "stream",
     "text": [
      "+----+----------------+----------------+-------------------+\n|year|pc_count_by_year|prev_yr_pc_count|pc_yoy_growth_count|\n+----+----------------+----------------+-------------------+\n|1887|               1|               0|                  1|\n|1888|               1|               1|                  2|\n|1890|               3|               2|                  5|\n|1894|               7|               5|                 12|\n|1895|               8|              12|                 20|\n|1896|              32|              20|                 52|\n|1897|              23|              52|                 75|\n|1898|              17|              75|                 92|\n|1899|              24|              92|                116|\n|1900|              18|             116|                134|\n|1901|               9|             134|                143|\n|1902|               8|             143|                151|\n|1903|              12|             151|                163|\n|1904|              11|             163|                174|\n|1905|              11|             174|                185|\n|1906|              15|             185|                200|\n|1907|              26|             200|                226|\n|1908|              41|             226|                267|\n|1909|              30|             267|                297|\n|1910|              74|             297|                371|\n+----+----------------+----------------+-------------------+\nonly showing top 20 rows\n\n"
     ]
    }
   ],
   "source": [
    "\n",
    "pc_yoy_df.orderBy(col(\"pc_yoy_growth_count\").asc()).show()\n"
   ]
  },
  {
   "cell_type": "code",
   "execution_count": 0,
   "metadata": {
    "application/vnd.databricks.v1+cell": {
     "cellMetadata": {
      "byteLimit": 2048000,
      "rowLimit": 10000
     },
     "inputWidgets": {},
     "nuid": "79b9ba14-d3ac-4dbe-a0f1-054d2f05f46e",
     "showTitle": false,
     "title": ""
    }
   },
   "outputs": [
    {
     "output_type": "stream",
     "name": "stdout",
     "output_type": "stream",
     "text": [
      "+----+----------------+----------------+-------------------+\n|year|pc_count_by_year|prev_yr_pc_count|pc_yoy_growth_count|\n+----+----------------+----------------+-------------------+\n|2028|               1|          197650|             197651|\n|2027|               2|          197648|             197650|\n|2026|              14|          197634|             197648|\n|2025|              71|          197563|             197634|\n|2024|            2916|          194647|             197563|\n|2023|           10473|          184174|             194647|\n|2022|            9628|          174546|             184174|\n|2021|            9213|          165333|             174546|\n|2020|            8106|          157227|             165333|\n|2019|            8845|          148382|             157227|\n|2018|            7985|          140397|             148382|\n|2017|            7597|          132800|             140397|\n|2016|            6883|          125917|             132800|\n|2015|            6647|          119270|             125917|\n|2014|            6085|          113185|             119270|\n|2013|            5491|          107694|             113185|\n|2012|            4760|          102934|             107694|\n|2011|            4450|           98484|             102934|\n|2010|            4033|           94451|              98484|\n|2009|            4121|           90330|              94451|\n+----+----------------+----------------+-------------------+\nonly showing top 20 rows\n\n"
     ]
    }
   ],
   "source": [
    "pc_yoy_df.orderBy(col(\"pc_yoy_growth_count\").desc()).show()"
   ]
  },
  {
   "cell_type": "code",
   "execution_count": 0,
   "metadata": {
    "application/vnd.databricks.v1+cell": {
     "cellMetadata": {
      "byteLimit": 2048000,
      "rowLimit": 10000
     },
     "inputWidgets": {},
     "nuid": "1364c4c7-6792-447a-b16f-8384881afda4",
     "showTitle": false,
     "title": ""
    }
   },
   "outputs": [
    {
     "output_type": "stream",
     "name": "stdout",
     "output_type": "stream",
     "text": [
      "+----+-------------+-------------+\n|year|yearly_budget|   yoy_budget|\n+----+-------------+-------------+\n|1865|          0.0|         null|\n|1874|          0.0|          0.0|\n|1878|        153.0|          0.0|\n|1882|          0.0|        153.0|\n|1885|          0.0|        153.0|\n|1887|          0.0|        153.0|\n|1888|          0.0|        153.0|\n|1889|          0.0|        153.0|\n|1890|          0.0|        153.0|\n|1891|          0.0|        153.0|\n|1892|          0.0|        153.0|\n|1893|          0.0|        153.0|\n|1894|          0.0|        153.0|\n|1895|          0.0|        153.0|\n|1896|          0.0|        153.0|\n|1897|          0.0|        153.0|\n|1898|          0.0|        153.0|\n|1899|          0.0|        153.0|\n|1900|          1.0|        153.0|\n|1901|          0.0|        154.0|\n|1902|       5985.0|        154.0|\n|1903|        150.0|       6139.0|\n|1904|       7500.0|       6289.0|\n|1905|         37.0|      13789.0|\n|1906|          0.0|      13826.0|\n|1907|        500.0|      13826.0|\n|1908|       1000.0|      14326.0|\n|1909|          0.0|      15326.0|\n|1910|          0.0|      15326.0|\n|1911|       3718.0|      15326.0|\n|1912|      30708.0|      19044.0|\n|1913|      55700.0|      49752.0|\n|1914|    2238011.0|     105452.0|\n|1915|     183364.0|    2343463.0|\n|1916|    1604482.0|    2526827.0|\n|1917|     865841.0|    4131309.0|\n|1918|     253000.0|    4997150.0|\n|1919|     875700.0|    5250150.0|\n|1920|     222000.0|    6125850.0|\n|1921|    2067167.0|    6347850.0|\n|1922|    2321340.0|    8415017.0|\n|1923|    3430202.0|  1.0736357E7|\n|1924|    2954257.0|  1.4166559E7|\n|1925|    7011960.0|  1.7120816E7|\n|1926|    5423426.0|  2.4132776E7|\n|1927|  1.0044528E7|  2.9556202E7|\n|1928|  1.4926003E7|   3.960073E7|\n|1929|    8438651.0|  5.4526733E7|\n|1930|  1.2609584E7|  6.2965384E7|\n|1931|    8338211.0|  7.5574968E7|\n|1932|    8376632.0|  8.3913179E7|\n|1933|  1.0420994E7|  9.2289811E7|\n|1934|    8532616.0| 1.02710805E8|\n|1935|  1.3126506E7| 1.11243421E8|\n|1936|  2.8081551E7| 1.24369927E8|\n|1937|  2.4501565E7| 1.52451478E8|\n|1938|  3.1129772E7| 1.76953043E8|\n|1939|  4.0607856E7| 2.08082815E8|\n|1940|  2.3786411E7| 2.48690671E8|\n|1941|  1.4647217E7| 2.72477082E8|\n|1942|  1.8705992E7| 2.87124299E8|\n|1943|  3.9421685E7| 3.05830291E8|\n|1944|  3.5922601E7| 3.45251976E8|\n|1945|  2.2352322E7| 3.81174577E8|\n|1946| 1.40034351E8| 4.03526899E8|\n|1947|  5.1329994E7|  5.4356125E8|\n|1948|  4.2699509E7| 5.94891244E8|\n|1949|  4.0772069E7| 6.37590753E8|\n|1950|   2.653323E7| 6.78362822E8|\n|1951|  5.0107603E7| 7.04896052E8|\n|1952|  4.1071051E7| 7.55003655E8|\n|1953|  4.0853543E7| 7.96074706E8|\n|1954|  8.6893942E7| 8.36928249E8|\n|1955|  5.8675716E7| 9.23822191E8|\n|1956|  7.0371547E7| 9.82497907E8|\n|1957|  7.5697615E7|1.052869454E9|\n|1958|  3.9509429E7|1.128567069E9|\n|1959|  7.9437159E7|1.168076498E9|\n|1960|  7.5274266E7|1.247513657E9|\n|1961|  8.4424563E7|1.322787923E9|\n|1962| 1.32889244E8|1.407212486E9|\n|1963| 1.31777293E8| 1.54010173E9|\n|1964| 1.12029843E8|1.671879023E9|\n|1965| 1.39641272E8|1.783908866E9|\n|1966| 1.49153629E8|1.923550138E9|\n|1967|  1.5379945E8|2.072703767E9|\n|1968| 1.68039731E8|2.226503217E9|\n|1969| 1.99076872E8|2.394542948E9|\n|1970| 3.28013822E8| 2.59361982E9|\n|1971|  1.3084458E8|2.921633642E9|\n|1972| 1.13547294E8|3.052478222E9|\n|1973|  1.4384311E8|3.166025516E9|\n|1974| 1.46418488E8|3.309868626E9|\n|1975| 1.61857966E8|3.456287114E9|\n|1976| 2.66769451E8| 3.61814508E9|\n|1977| 4.05391817E8|3.884914531E9|\n|1978| 4.14804721E8|4.290306348E9|\n|1979| 5.43723787E8|4.705111069E9|\n|1980| 7.91344359E8|5.248834856E9|\n|1981| 8.64494673E8|6.040179215E9|\n+----+-------------+-------------+\nonly showing top 100 rows\n\n"
     ]
    }
   ],
   "source": [
    "#YOY budget\n",
    "ws = Window.orderBy(\"year\").rowsBetween(Window.unboundedPreceding, -1)\n",
    "yoy_budget = cleaned_df.groupby(\"year\").agg(sum(col(\"budget\")).alias(\"yearly_budget\")).withColumn(\"yoy_budget\",sum(col(\"yearly_budget\")).over(ws))\n",
    "\n",
    "yoy_budget.orderBy(col(\"year\").asc()).show(100)\n",
    "\n",
    "#yoy revenue\n",
    "yoy_revenue = cleaned_df.groupby(\"year\").agg(sum(col(\"revenue\")).alias(\"yearly_revenue\")).withColumn(\"yoy_revenue\",sum(col(\"yearly_revenue\")).over(ws))\n",
    "\n",
    "yoy_revenue.orderBy(col(\"year\").asc()).show(100)                                                                                 \n",
    "                                                           "
   ]
  },
  {
   "cell_type": "code",
   "execution_count": 0,
   "metadata": {
    "application/vnd.databricks.v1+cell": {
     "cellMetadata": {
      "byteLimit": 2048000,
      "rowLimit": 10000
     },
     "inputWidgets": {},
     "nuid": "b9de6ed1-76b2-421f-9eea-19544c7dcd1c",
     "showTitle": false,
     "title": ""
    }
   },
   "outputs": [
    {
     "output_type": "stream",
     "name": "stdout",
     "output_type": "stream",
     "text": [
      "+----+---------------+----------------+\n|year|  yearly_budget|      yoy_budget|\n+----+---------------+----------------+\n|2115|            0.0|2.90206110073E11|\n|2074|            0.0|2.90206110073E11|\n|2064|            0.0|2.90206110073E11|\n|2031|          6.0E8|2.89606110073E11|\n|2030|            0.0|2.89606110073E11|\n|2029|          5.0E8|2.89106110073E11|\n|2028|            0.0|2.89106110073E11|\n|2027|       1.0025E7|2.89096085073E11|\n|2026|      9108000.0|2.89086977073E11|\n|2025|  1.411367772E9|2.87675609301E11|\n|2024|   4.13858052E9|2.83537028781E11|\n|2023|1.1104715036E10|2.72432313745E11|\n|2022|  9.399428229E9|2.63032885516E11|\n|2021|  8.121946606E9| 2.5491093891E11|\n|2020|  4.607772234E9|2.50303166676E11|\n|2019|  9.854952311E9|2.40448214365E11|\n|2018|1.0056755153E10|2.30391459212E11|\n|2017|1.0816426538E10|2.19575032674E11|\n|2016|1.2003904151E10|2.07571128523E11|\n|2015|1.0058613175E10|1.97512515348E11|\n|2014|1.0592040864E10|1.86920474484E11|\n|2013|1.0977803358E10|1.75942671126E11|\n|2012|1.0364898052E10|1.65577773074E11|\n|2011|1.0843304215E10|1.54734468859E11|\n|2010|1.1105878843E10|1.43628590016E11|\n|2009|1.0587281331E10|1.33041308685E11|\n|2008|1.0456723642E10|1.22584585043E11|\n|2007|  9.571807909E9|1.13012777134E11|\n|2006|  9.086708219E9|1.03926068915E11|\n|2005|  8.684658199E9| 9.5241410716E10|\n|2004|  8.740655298E9| 8.6500755418E10|\n|2003|  7.481386907E9| 7.9019368511E10|\n|2002|  7.235376783E9| 7.1783991728E10|\n|2001|  7.293681493E9| 6.4490310235E10|\n|2000|  6.747402717E9| 5.7742907518E10|\n|1999|  6.885983109E9| 5.0856924409E10|\n|1998|  5.676690722E9| 4.5180233687E10|\n|1997|  5.844659606E9| 3.9335574081E10|\n|1996|  4.509080416E9| 3.4826493665E10|\n|1995|   4.02964862E9| 3.0796845045E10|\n|1994|  3.325979631E9| 2.7470865414E10|\n|1993|  2.858931281E9| 2.4611934133E10|\n|1992|  2.608274909E9| 2.2003659224E10|\n|1991|  2.510018208E9| 1.9493641016E10|\n|1990|  2.123545928E9| 1.7370095088E10|\n|1989|  1.812518788E9|   1.55575763E10|\n|1988|  1.650849089E9| 1.3906727211E10|\n|1987|  1.444871069E9| 1.2461856142E10|\n|1986|  1.357075225E9| 1.1104780917E10|\n|1985|  1.245719344E9|   9.859061573E9|\n+----+---------------+----------------+\nonly showing top 50 rows\n\n"
     ]
    }
   ],
   "source": [
    "yoy_budget.orderBy(col(\"year\").desc()).show(50)"
   ]
  },
  {
   "cell_type": "code",
   "execution_count": 0,
   "metadata": {
    "application/vnd.databricks.v1+cell": {
     "cellMetadata": {},
     "inputWidgets": {},
     "nuid": "69a4b322-562a-477e-af53-827a72ebfdb5",
     "showTitle": false,
     "title": ""
    }
   },
   "outputs": [],
   "source": []
  }
 ],
 "metadata": {
  "application/vnd.databricks.v1+notebook": {
   "dashboards": [],
   "language": "python",
   "notebookMetadata": {
    "pythonIndentUnit": 4
   },
   "notebookName": "Assignment-MovieRatings",
   "widgets": {}
  }
 },
 "nbformat": 4,
 "nbformat_minor": 0
}
